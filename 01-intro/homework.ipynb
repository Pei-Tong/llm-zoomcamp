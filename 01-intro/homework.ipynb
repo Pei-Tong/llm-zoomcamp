{
 "cells": [
  {
   "cell_type": "code",
   "execution_count": 1,
   "id": "e9d27107-9648-4e53-a23b-b8b364b1c508",
   "metadata": {},
   "outputs": [],
   "source": [
    "import openai"
   ]
  },
  {
   "cell_type": "code",
   "execution_count": 2,
   "id": "1020df5f-a4d3-492e-a46b-ae4240897c67",
   "metadata": {},
   "outputs": [],
   "source": [
    "from openai import OpenAI"
   ]
  },
  {
   "cell_type": "code",
   "execution_count": 4,
   "id": "976cd3a7-6dec-4a0c-a443-030e59ad6ce4",
   "metadata": {},
   "outputs": [],
   "source": [
    "import os"
   ]
  },
  {
   "cell_type": "code",
   "execution_count": null,
   "id": "4d48c2b6",
   "metadata": {},
   "outputs": [],
   "source": [
    "import os"
   ]
  },
  {
   "cell_type": "code",
   "execution_count": 25,
   "id": "b747f0da-c69a-4f2b-be1a-4e0333e450d7",
   "metadata": {},
   "outputs": [],
   "source": [
    "response = client.chat.completions.create(\n",
    "    model='gpt-4o',\n",
    "    messages=[{\"role\": \"user\", \"content\": \"is it too late to join the course?\"}]\n",
    ")"
   ]
  },
  {
   "cell_type": "code",
   "execution_count": 30,
   "id": "7685251a-4611-4f79-b054-ebba9d227002",
   "metadata": {},
   "outputs": [
    {
     "data": {
      "text/plain": [
       "\"It's difficult to provide an exact answer without more context about the specific course you're asking about. Here are a few factors to consider when determining if it’s too late to join a course:\\n\\n1. **Enrollment Deadline:** Check if the course has a specific enrollment deadline.\\n2. **Start Date:** If the course has already started, find out how far along it is. Missing the first few sessions might be manageable, but missing a significant portion of the course could make catching up difficult.\\n3. **Instructor’s Policy:** Some instructors allow late enrollments, especially if you can demonstrate that you’re willing and able to catch up.\\n4. **Course Format:** For self-paced online courses, it might never be too late to sign up. For live, synchronous courses, timing is more critical.\\n5. **Resources and Support:** Consider if you have access to recorded lectures, notes, and other resources that can help you catch up on missed content.\\n\\nIf you can find out this information, you'll be in a better position to decide whether it’s feasible to join the course at this point. If you're still unsure, it might be best to contact the course provider directly for more details.\""
      ]
     },
     "execution_count": 30,
     "metadata": {},
     "output_type": "execute_result"
    }
   ],
   "source": [
    "response.choices[0].message.content"
   ]
  }
 ],
 "metadata": {
  "kernelspec": {
   "display_name": "Python 3 (ipykernel)",
   "language": "python",
   "name": "python3"
  },
  "language_info": {
   "codemirror_mode": {
    "name": "ipython",
    "version": 3
   },
   "file_extension": ".py",
   "mimetype": "text/x-python",
   "name": "python",
   "nbconvert_exporter": "python",
   "pygments_lexer": "ipython3",
   "version": "3.10.13"
  }
 },
 "nbformat": 4,
 "nbformat_minor": 5
}
