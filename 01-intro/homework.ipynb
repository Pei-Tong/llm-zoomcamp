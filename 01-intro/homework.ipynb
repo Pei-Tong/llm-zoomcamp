{
 "cells": [
  {
   "cell_type": "code",
   "execution_count": 1,
   "id": "90070d06",
   "metadata": {},
   "outputs": [],
   "source": [
    "import openai"
   ]
  },
  {
   "cell_type": "code",
   "execution_count": 2,
   "id": "a04c1f34",
   "metadata": {},
   "outputs": [],
   "source": [
    "from openai import OpenAI"
   ]
  },
  {
   "cell_type": "code",
   "execution_count": 9,
   "id": "05a96f3f-9f83-404c-8f58-9ec2cde325ee",
   "metadata": {},
   "outputs": [],
   "source": [
    "client = OpenAI()"
   ]
  },
  {
   "cell_type": "code",
   "execution_count": 10,
   "id": "c0ac28c6",
   "metadata": {},
   "outputs": [],
   "source": [
    "import os"
   ]
  },
  {
   "cell_type": "code",
   "execution_count": 11,
   "id": "37662e11-d7a3-4ff1-b10d-1bca437bee6e",
   "metadata": {},
   "outputs": [],
   "source": [
    "response = client.chat.completions.create(\n",
    "    model='gpt-4o',\n",
    "    messages=[{\"role\": \"user\", \"content\": \"is it too late to join the course?\"}]\n",
    ")"
   ]
  },
  {
   "cell_type": "code",
   "execution_count": 13,
   "id": "a7c4daac-532d-44e2-96fc-9b451c48c865",
   "metadata": {},
   "outputs": [
    {
     "data": {
      "text/plain": [
       "\"It depends on the specific course you're interested in. Here are some general steps you can take to determine if it's too late to join:\\n\\n1. **Check the Enrollment Dates:** Most courses have specific enrollment periods. Look at the course details to find out the registration deadlines.\\n\\n2. **Contact the Course Provider:** If the deadline has passed, it's still worth reaching out to the course instructor or administration. They may allow late enrollment under certain circumstances.\\n\\n3. **Online Courses:** Many online courses offer rolling admissions or flexible start dates. If it's an online course, you might still be able to join.\\n\\n4. **Check for Prerequisites:** Ensure you meet any prerequisites or required materials, even if late enrollment is possible.\\n\\n5. **Catch Up:** If the course has already started, inquire about the possibility of catching up on missed material. Some instructors may provide recorded lectures or supplementary materials.\\n\\n6. **Refund and Withdrawal Policies:** If you're worried about committing late, check the course's policies on refunds and withdrawals in case it doesn't work out.\\n\\nIf you provide more specific details about the course, I might be able to offer more tailored advice!\""
      ]
     },
     "execution_count": 13,
     "metadata": {},
     "output_type": "execute_result"
    }
   ],
   "source": [
    "response.choices[0].message.content"
   ]
  }
 ],
 "metadata": {
  "kernelspec": {
   "display_name": "Python 3 (ipykernel)",
   "language": "python",
   "name": "python3"
  },
  "language_info": {
   "codemirror_mode": {
    "name": "ipython",
    "version": 3
   },
   "file_extension": ".py",
   "mimetype": "text/x-python",
   "name": "python",
   "nbconvert_exporter": "python",
   "pygments_lexer": "ipython3",
   "version": "3.10.13"
  }
 },
 "nbformat": 4,
 "nbformat_minor": 5
}
