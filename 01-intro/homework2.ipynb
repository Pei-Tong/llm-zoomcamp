{
 "cells": [
  {
   "cell_type": "code",
   "execution_count": 7,
   "id": "fe50d097-c20c-4c12-8ae9-ca4c38611542",
   "metadata": {},
   "outputs": [],
   "source": [
    "import openai"
   ]
  },
  {
   "cell_type": "code",
   "execution_count": 8,
   "id": "21a10bda-3ad8-48b0-96ff-7af42c703fd0",
   "metadata": {},
   "outputs": [],
   "source": [
    "from openai import OpenAI"
   ]
  },
  {
   "cell_type": "code",
   "execution_count": 9,
   "id": "cdd55ef5-baf3-4ed6-8543-98fd44aa42c1",
   "metadata": {},
   "outputs": [],
   "source": [
    "import os"
   ]
  },
  {
   "cell_type": "raw",
   "id": "7da4c1bf-f044-482c-81f4-82bf02ee1f67",
   "metadata": {},
   "source": [
    "client = OpenAI(api_key=)"
   ]
  },
  {
   "cell_type": "raw",
   "id": "33f60665-37a1-4e66-b72d-8b359e04cda2",
   "metadata": {},
   "source": [
    "os.environ"
   ]
  },
  {
   "cell_type": "code",
   "execution_count": 11,
   "id": "c92f1858-41fd-4fef-ac72-d554e05c6aca",
   "metadata": {},
   "outputs": [],
   "source": [
    "response = client.chat.completions.create(\n",
    "    model='gpt-4o',\n",
    "    messages=[{\"role\": \"user\", \"content\": \"is it too late to join the course?\"}]\n",
    ")"
   ]
  },
  {
   "cell_type": "code",
   "execution_count": 13,
   "id": "0be188d3-9402-411e-a3a2-11c1527a105e",
   "metadata": {},
   "outputs": [
    {
     "data": {
      "text/plain": [
       "\"It depends on the specific course you're referring to and its enrollment deadlines. Some courses have specific start dates and deadlines for registration, while others may have rolling admissions or be self-paced, allowing you to start anytime. \\n\\nIt's best to check directly with the institution or organization offering the course to understand their specific timelines and policies. Many online courses, especially those offered by platforms like Coursera, edX, or Udemy, often allow for flexible start dates. However, for in-person or semester-based courses at schools or universities, deadlines may be stricter.\\n\\nIf you've missed the deadline, you can also inquire if there are any late registration options or if you can audit the course. Sometimes instructors will make exceptions or offer alternative solutions.\""
      ]
     },
     "execution_count": 13,
     "metadata": {},
     "output_type": "execute_result"
    }
   ],
   "source": [
    "response.choices[0].message.content"
   ]
  },
  {
   "cell_type": "code",
   "execution_count": null,
   "id": "4bda675b-4a24-4777-9142-f69c5b9f2a12",
   "metadata": {},
   "outputs": [],
   "source": []
  }
 ],
 "metadata": {
  "kernelspec": {
   "display_name": "Python 3 (ipykernel)",
   "language": "python",
   "name": "python3"
  },
  "language_info": {
   "codemirror_mode": {
    "name": "ipython",
    "version": 3
   },
   "file_extension": ".py",
   "mimetype": "text/x-python",
   "name": "python",
   "nbconvert_exporter": "python",
   "pygments_lexer": "ipython3",
   "version": "3.10.14"
  }
 },
 "nbformat": 4,
 "nbformat_minor": 5
}
